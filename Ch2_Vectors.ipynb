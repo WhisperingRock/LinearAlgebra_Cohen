{
 "cells": [
  {
   "cell_type": "code",
   "execution_count": 2,
   "id": "31f491eb-18a6-4b12-919e-fa1c54366047",
   "metadata": {},
   "outputs": [],
   "source": [
    "#Imports\n",
    "import math\n",
    "import cmath\n",
    "import numpy as np\n",
    "\n",
    "import matplotlib.pyplot as plt\n",
    "import matplotlib.ticker as ticker"
   ]
  },
  {
   "attachments": {
    "d7b74a46-7b3b-4fc8-8d48-efe8e87b95c1.png": {
     "image/png": "[encoded data removed]"
    }
   },
   "cell_type": "markdown",
   "id": "bf33be8d-cffc-4a56-b0ee-8b8b7ff05d96",
   "metadata": {
    "jp-MarkdownHeadingCollapsed": true
   },
   "source": [
    "# 2.1 Scalars\n",
    "- A single number like 4, $\\pi$ or -17.3 .\n",
    "- Can be represented on a number line (without an arrow).\n",
    "- ![image.png](attachment:d7b74a46-7b3b-4fc8-8d48-efe8e87b95c1.png)"
   ]
  },
  {
   "cell_type": "code",
   "execution_count": 2,
   "id": "8b28641d-6902-4cf8-b38e-353b89459559",
   "metadata": {},
   "outputs": [],
   "source": [
    "mySalar = 4"
   ]
  },
  {
   "cell_type": "markdown",
   "id": "6df15ece-4e1d-4b75-8c53-cb4764ebf531",
   "metadata": {},
   "source": [
    "## Practice Problems\n",
    "_Solve for $\\lambda$_\n",
    "\n",
    "1. $2\\lambda=9$\n",
    "2. $5\\lambda=7$\n",
    "3. $\\pi^3=e^\\lambda$\n",
    "4. $4(\\lambda+3)=-6$\n",
    "5. $0.5\\lambda=0.25$\n",
    "6. $8\\lambda=0$\n",
    "7. $\\lambda^2=36$\n",
    "8. $\\lambda=5\\lambda^2$"
   ]
  },
  {
   "cell_type": "code",
   "execution_count": 3,
   "id": "a4ffd499-ebf9-42f6-9a9b-b012230c5e5e",
   "metadata": {},
   "outputs": [
    {
     "name": "stdout",
     "output_type": "stream",
     "text": [
      "1. Lambda is equal to 4.5\n",
      "2. Lambda is equal to 1.4\n",
      "3. Lambda is equal to 3.4341896575482003\n",
      "4. Lambda is equal to -4.5\n",
      "5. Lambda is equal to 0.5\n",
      "6. Lambda is equal to 0.0\n",
      "7. Lambda is equal to [-6.0, 6.0]\n",
      "8. Lambda is equal to [0.0, 0.2]\n"
     ]
    }
   ],
   "source": [
    "print(f\"1. Lambda is equal to {9/2}\")\n",
    "print(f\"2. Lambda is equal to {7/5}\")\n",
    "print(f\"3. Lambda is equal to {math.log((math.pi ** 3))}\")\n",
    "print(f\"4. Lambda is equal to {(-6/4)-3}\")\n",
    "print(f\"5. Lambda is equal to {0.25/0.5}\")\n",
    "print(f\"6. Lambda is equal to {0/8}\")\n",
    "print(f\"7. Lambda is equal to [{- math.sqrt(36)}, {math.sqrt(36)}]\")\n",
    "\n",
    "a = 5\n",
    "b = -1\n",
    "c = 0\n",
    "\n",
    "discriminant = math.sqrt((b ** 2) - (4 * a * c))\n",
    "\n",
    "ans1 = (-b - discriminant)/ (2 * a)\n",
    "ans2 = (-b + discriminant)/ (2 * a)\n",
    "\n",
    "print(f\"8. Lambda is equal to [{ans1}, {ans2}]\")"
   ]
  },
  {
   "cell_type": "markdown",
   "id": "0258c0eb-a61f-4a43-86da-d55b20c84bf0",
   "metadata": {},
   "source": [
    "# 2.2 Vectors : Geometry and Algebra"
   ]
  },
  {
   "cell_type": "markdown",
   "id": "ef988df1-6123-4c19-91bb-51236c245b7b",
   "metadata": {},
   "source": [
    "### __DEF : A vector is a line, which is determined by a magnitude (length) and a direction.__\n",
    "\n",
    "- Lines can exist on a coordinate system with any number of dimensions greater than zero (not using fractals)\n",
    "- Dimensionality of the vector is the dimensionality of the coordinate system.\n",
    "- __A vector does not include information on a starting or ending point, its not a coordindate (unique point in space)__\n",
    "- We can call the \"starting\" point the \"tail\" and the \"ending\" point the \"head\"\n",
    "- A vector with its tail at the origin is said to be in its __standard position__. Unless specified, you may assume each vector is in standard position. "
   ]
  },
  {
   "cell_type": "code",
   "execution_count": 9,
   "id": "fc5b9aee-f0e5-462a-a5c2-c720d75512a9",
   "metadata": {},
   "outputs": [
    {
     "data": {
      "text/plain": [
       "(np.float64(-3.0), np.float64(3.0), np.float64(-3.0), np.float64(3.0))"
      ]
     },
     "execution_count": 9,
     "metadata": {},
     "output_type": "execute_result"
    },
    {
     "data": {
      "image/png": "[encoded data removed]",
      "text/plain": [
       "<Figure size 640x480 with 1 Axes>"
      ]
     },
     "metadata": {},
     "output_type": "display_data"
    }
   ],
   "source": [
    "v = np.array([2, -1])\n",
    "plt.plot([0, v[0]],[0, v[1]])\n",
    "plt.grid(True)\n",
    "plt.axis([-3,3, -3, 3])"
   ]
  },
  {
   "cell_type": "markdown",
   "id": "5f36c641-fe3e-42d0-94c6-ebde98b65695",
   "metadata": {},
   "source": [
    "### Algebraic Representation\n",
    "A vector is an __ordered__ list of numbers where the n numbers represents n-dimensions. Notice these two 2D vectors are not the same :\n",
    "\n",
    "$$\n",
    "a = \n",
    "\\begin{bmatrix}\n",
    "1\\\\\n",
    "3\n",
    "\\end{bmatrix}\n",
    "$$\n",
    "$$\n",
    "b = \n",
    "\\begin{bmatrix}\n",
    "3\\\\\n",
    "1\n",
    "\\end{bmatrix}\n",
    "$$\n",
    "\n",
    "$$\n",
    "a \\neq b\n",
    "$$\n",
    "  \n",
    "### Vectors are not limited to numbers\n",
    "$$\n",
    "    \\mathbf{v} = \n",
    "    \\begin{bmatrix}\n",
    "    \\cos(t) & \\sin(t) & t\n",
    "    \\end{bmatrix}\n",
    "$$\n",
    "\n",
    "### Orientation\n",
    "An upright vector is called a __column vector :__ $\\begin{bmatrix} 7\\\\5\\\\3\\\\8\\\\1 \\end{bmatrix}$\n",
    "\n",
    "An lying down vector is called a __row vector :__ $\\begin{bmatrix} 7&5&3&8&1 \\end{bmatrix}$\n",
    "\n",
    "_Note : its standard convention to assume all vectors are column vectors unless stated otherwise._\n",
    "\n",
    "\n",
    "\n",
    "### Notations\n",
    "- In hand written notes, refer to vectors with an arrow on top :  $\\overrightarrow{v}$\n",
    "- In the book and official text, vectors are referred to in boldface : $\\mathbf{v}$\n",
    "- You can refer to the ith element in array $\\mathbf{v}$ with a subscript (not bold b/c its a scalar): $v_i$\n",
    "- You can refer to the ith vector in s series of vectors $( \\mathbf{v_1},  \\mathbf{v_2}, \\ldots, \\mathbf{v_n})$ : $\\mathbf{v_i}$\n",
    "\n",
    "\n",
    "### Zero vector\n",
    "- A vector (or matrix) where __ALL__ elements must be zero.\n",
    "- Represented with a boldface zero $\\textbf{0}$. The bf zero also represents the zero matrix\n",
    "- The direction is unknown (because it has no magnitude to indicate a direction)\n",
    "- "
   ]
  },
  {
   "cell_type": "code",
   "execution_count": null,
   "id": "27c0515c-f782-48dc-b23e-68c64577f4bd",
   "metadata": {},
   "outputs": [],
   "source": [
    "# Practice Vectors\n",
    "# Are they all equal?\n",
    "\n",
    "v1 = [2, 5, 4, 7]\n",
    "v2 = np.array([2, 5, 4, 7])\n",
    "v3 = np.array([[2],[5],[4],[7]])\n",
    "v4 = np.array([[2, 5, 4, 7]])"
   ]
  },
  {
   "cell_type": "markdown",
   "id": "e2e12a97-2a92-4548-874b-b11aa0b68b03",
   "metadata": {},
   "source": [
    "### Practice Problems\n",
    "State the type and dimensionality of the following vectors. \n",
    "For 2D vectors, draw the vector assuming it is in standard position.\n",
    "\n",
    "1. $\n",
    "       \\begin{bmatrix}\n",
    "           1\\\\2\\\\3\\\\1\n",
    "       \\end{bmatrix}\n",
    "   $\n",
    "\n",
    "   \n",
    "2. $\n",
    "       \\begin{bmatrix}\n",
    "           1&2&3&1\n",
    "       \\end{bmatrix}\n",
    "   $\n",
    "\n",
    "\n",
    "3. $\n",
    "       \\begin{bmatrix}\n",
    "           -1\\\\\\pi\n",
    "       \\end{bmatrix}\n",
    "   $\n",
    "\n",
    "\n",
    "4. $\n",
    "       \\begin{bmatrix}\n",
    "           7&\\frac{1}{3}\n",
    "       \\end{bmatrix}\n",
    "   $"
   ]
  },
  {
   "cell_type": "markdown",
   "id": "6eb77c5a-37b5-4090-90fb-a2815eaa4182",
   "metadata": {},
   "source": [
    "1. 4D column vector because it has 4 elements\n",
    "2. 4D row vector because it has 4 elements\n",
    "3. 2D column vector because it has 2 elements\n",
    "4. 2D row vector because it has 2 elements"
   ]
  },
  {
   "cell_type": "code",
   "execution_count": 21,
   "id": "b825ecbb-6c9c-4348-b9b8-c572ae508be6",
   "metadata": {},
   "outputs": [
    {
     "data": {
      "image/png": "[encoded data removed]",
      "text/plain": [
       "<Figure size 640x480 with 1 Axes>"
      ]
     },
     "metadata": {},
     "output_type": "display_data"
    }
   ],
   "source": [
    "# Plot of vector in question 3 and 4\n",
    "fig, ax = plt.subplots()\n",
    "ax.plot([0, -1], [0, math.pi], marker='o', label = \"Problem 3\")\n",
    "ax.plot([0, 7], [0, 1/3], marker='o', label=\"Problem 4\")\n",
    "plt.grid(True)\n",
    "plt.axis([-4,10, -5, 5])\n",
    "ax.legend()\n",
    "plt.show()"
   ]
  },
  {
   "cell_type": "code",
   "execution_count": null,
   "id": "c85d2138-7b0c-4b98-a7d3-3631065624c2",
   "metadata": {},
   "outputs": [],
   "source": []
  }
 ],
 "metadata": {
  "kernelspec": {
   "display_name": "Python 3 (ipykernel)",
   "language": "python",
   "name": "python3"
  },
  "language_info": {
   "codemirror_mode": {
    "name": "ipython",
    "version": 3
   },
   "file_extension": ".py",
   "mimetype": "text/x-python",
   "name": "python",
   "nbconvert_exporter": "python",
   "pygments_lexer": "ipython3",
   "version": "3.12.8"
  }
 },
 "nbformat": 4,
 "nbformat_minor": 5
}
